{
 "cells": [
  {
   "cell_type": "code",
   "execution_count": 512,
   "id": "ec85ba17-495d-45ad-ab5a-8b80dc34add4",
   "metadata": {
    "editable": true,
    "slideshow": {
     "slide_type": ""
    },
    "tags": []
   },
   "outputs": [],
   "source": [
    "import pandas as pd\n",
    "import numpy as np\n",
    "import nltk\n",
    "import re\n",
    "import ssl\n",
    "import nltk.corpus\n",
    "from nltk.tokenize import word_tokenize\n",
    "from nltk.corpus import stopwords\n",
    "from nltk.stem import WordNetLemmatizer"
   ]
  },
  {
   "cell_type": "markdown",
   "id": "d287bc0a-f408-4765-8a56-e36530c06f9d",
   "metadata": {},
   "source": [
    "#### Text Tokenization, Lemmatization, and Removing Stopwords"
   ]
  },
  {
   "cell_type": "code",
   "execution_count": 513,
   "id": "da9ed1cd-d702-4b84-a93c-5105a9e97679",
   "metadata": {
    "editable": true,
    "slideshow": {
     "slide_type": ""
    },
    "tags": []
   },
   "outputs": [],
   "source": [
    "df = pd.read_csv('movie_summary.csv', index_col=0) # importing the dataset"
   ]
  },
  {
   "cell_type": "code",
   "execution_count": 514,
   "id": "34d890ad-75e9-4185-82bc-de276d9393cc",
   "metadata": {},
   "outputs": [
    {
     "data": {
      "text/html": [
       "<div>\n",
       "<style scoped>\n",
       "    .dataframe tbody tr th:only-of-type {\n",
       "        vertical-align: middle;\n",
       "    }\n",
       "\n",
       "    .dataframe tbody tr th {\n",
       "        vertical-align: top;\n",
       "    }\n",
       "\n",
       "    .dataframe thead th {\n",
       "        text-align: right;\n",
       "    }\n",
       "</style>\n",
       "<table border=\"1\" class=\"dataframe\">\n",
       "  <thead>\n",
       "    <tr style=\"text-align: right;\">\n",
       "      <th></th>\n",
       "      <th>movie_name</th>\n",
       "      <th>summary</th>\n",
       "      <th>genre</th>\n",
       "    </tr>\n",
       "  </thead>\n",
       "  <tbody>\n",
       "    <tr>\n",
       "      <th>0</th>\n",
       "      <td>The Shawshank Redemption</td>\n",
       "      <td>Over the course of several years, two convicts...</td>\n",
       "      <td>['Drama', '']</td>\n",
       "    </tr>\n",
       "    <tr>\n",
       "      <th>1</th>\n",
       "      <td>The Godfather</td>\n",
       "      <td>The aging patriarch of an organized crime dyna...</td>\n",
       "      <td>['Crime', 'Drama', '']</td>\n",
       "    </tr>\n",
       "    <tr>\n",
       "      <th>2</th>\n",
       "      <td>The Dark Knight</td>\n",
       "      <td>When the menace known as the Joker wreaks havo...</td>\n",
       "      <td>['Action', 'Crime', 'Drama', '']</td>\n",
       "    </tr>\n",
       "    <tr>\n",
       "      <th>3</th>\n",
       "      <td>The Godfather Part II</td>\n",
       "      <td>The early life and career of Vito Corleone in ...</td>\n",
       "      <td>['Crime', 'Drama', '']</td>\n",
       "    </tr>\n",
       "    <tr>\n",
       "      <th>4</th>\n",
       "      <td>12 Angry Men</td>\n",
       "      <td>The jury in a New York City murder trial is fr...</td>\n",
       "      <td>['Crime', 'Drama', '']</td>\n",
       "    </tr>\n",
       "  </tbody>\n",
       "</table>\n",
       "</div>"
      ],
      "text/plain": [
       "                 movie_name  \\\n",
       "0  The Shawshank Redemption   \n",
       "1             The Godfather   \n",
       "2           The Dark Knight   \n",
       "3     The Godfather Part II   \n",
       "4              12 Angry Men   \n",
       "\n",
       "                                             summary  \\\n",
       "0  Over the course of several years, two convicts...   \n",
       "1  The aging patriarch of an organized crime dyna...   \n",
       "2  When the menace known as the Joker wreaks havo...   \n",
       "3  The early life and career of Vito Corleone in ...   \n",
       "4  The jury in a New York City murder trial is fr...   \n",
       "\n",
       "                              genre  \n",
       "0                     ['Drama', '']  \n",
       "1            ['Crime', 'Drama', '']  \n",
       "2  ['Action', 'Crime', 'Drama', '']  \n",
       "3            ['Crime', 'Drama', '']  \n",
       "4            ['Crime', 'Drama', '']  "
      ]
     },
     "execution_count": 514,
     "metadata": {},
     "output_type": "execute_result"
    }
   ],
   "source": [
    "df.head()"
   ]
  },
  {
   "cell_type": "code",
   "execution_count": 515,
   "id": "249383a8-a1fa-4d32-a641-6423846be9df",
   "metadata": {},
   "outputs": [
    {
     "name": "stderr",
     "output_type": "stream",
     "text": [
      "[nltk_data] Downloading package punkt to /Users/sagi/nltk_data...\n",
      "[nltk_data]   Package punkt is already up-to-date!\n",
      "[nltk_data] Downloading package wordnet to /Users/sagi/nltk_data...\n",
      "[nltk_data]   Package wordnet is already up-to-date!\n",
      "[nltk_data] Downloading package omw-1.4 to /Users/sagi/nltk_data...\n",
      "[nltk_data]   Package omw-1.4 is already up-to-date!\n"
     ]
    },
    {
     "data": {
      "text/plain": [
       "True"
      ]
     },
     "execution_count": 515,
     "metadata": {},
     "output_type": "execute_result"
    }
   ],
   "source": [
    "# downloading packages for nltk\n",
    "try:\n",
    "    _create_unverified_https_context = ssl._create_unverified_context\n",
    "except AttributeError:\n",
    "    pass\n",
    "else:\n",
    "    ssl._create_default_https_context = _create_unverified_https_context\n",
    "\n",
    "nltk.download('punkt')\n",
    "nltk.download('wordnet')\n",
    "nltk.download('omw-1.4')"
   ]
  },
  {
   "cell_type": "code",
   "execution_count": 516,
   "id": "500ffcf6-ad43-4a0e-96ae-b3abff158fd6",
   "metadata": {},
   "outputs": [],
   "source": [
    "# implementing text cleaner function\n",
    "def text_cleaner(text, to_lower=True):\n",
    "    # Remove all non-alphabetic characters, except '$', and spaces\n",
    "    clean_text = re.sub(r'[^a-zA-Z\\s$]', '', str(text))\n",
    "    # Convert the text to lowercase\n",
    "    if to_lower:\n",
    "        clean_text = clean_text.lower()\n",
    "    return clean_text.strip()"
   ]
  },
  {
   "cell_type": "code",
   "execution_count": 517,
   "id": "85b580eb-b4c6-4912-8619-d18ab93de0ab",
   "metadata": {},
   "outputs": [],
   "source": [
    "# clean and tokenize the summary column\n",
    "stop_words = set(stopwords.words('english'))\n",
    "\n",
    "def preprocess_text(text):\n",
    "    tokens = word_tokenize(text_cleaner(text)) # tokenization\n",
    "    lemmatized_tokens = [lemmatizer.lemmatize(token) for token in tokens] # lemmatization\n",
    "    clean_tokens = [token for token in lemmatized_tokens if token.isalpha() and token not in stop_words] # cleaning from stopwords\n",
    "    return ' '.join(clean_tokens)\n"
   ]
  },
  {
   "cell_type": "code",
   "execution_count": 518,
   "id": "eaa77416-0584-463a-b5a8-d760c17c3fe6",
   "metadata": {},
   "outputs": [],
   "source": [
    "# preprocessing\n",
    "df['summary'] = df['summary'].apply(preprocess_text)\n",
    "\n",
    "# cleaning genre column\n",
    "df.genre = df.genre.apply(lambda x: text_cleaner(x, to_lower=False))\n",
    "df.genre = df.genre.apply(lambda x: x.replace(' ', ', '))"
   ]
  },
  {
   "cell_type": "code",
   "execution_count": 519,
   "id": "c24aa41d-0541-48bc-89e7-8acdb76a477f",
   "metadata": {
    "scrolled": true
   },
   "outputs": [
    {
     "data": {
      "text/html": [
       "<div>\n",
       "<style scoped>\n",
       "    .dataframe tbody tr th:only-of-type {\n",
       "        vertical-align: middle;\n",
       "    }\n",
       "\n",
       "    .dataframe tbody tr th {\n",
       "        vertical-align: top;\n",
       "    }\n",
       "\n",
       "    .dataframe thead th {\n",
       "        text-align: right;\n",
       "    }\n",
       "</style>\n",
       "<table border=\"1\" class=\"dataframe\">\n",
       "  <thead>\n",
       "    <tr style=\"text-align: right;\">\n",
       "      <th></th>\n",
       "      <th>movie_name</th>\n",
       "      <th>summary</th>\n",
       "      <th>genre</th>\n",
       "    </tr>\n",
       "  </thead>\n",
       "  <tbody>\n",
       "    <tr>\n",
       "      <th>0</th>\n",
       "      <td>The Shawshank Redemption</td>\n",
       "      <td>course several year two convict form friendshi...</td>\n",
       "      <td>Drama</td>\n",
       "    </tr>\n",
       "    <tr>\n",
       "      <th>1</th>\n",
       "      <td>The Godfather</td>\n",
       "      <td>aging patriarch organized crime dynasty transf...</td>\n",
       "      <td>Crime, Drama</td>\n",
       "    </tr>\n",
       "    <tr>\n",
       "      <th>2</th>\n",
       "      <td>The Dark Knight</td>\n",
       "      <td>menace known joker wreaks havoc chaos people g...</td>\n",
       "      <td>Action, Crime, Drama</td>\n",
       "    </tr>\n",
       "    <tr>\n",
       "      <th>3</th>\n",
       "      <td>The Godfather Part II</td>\n",
       "      <td>early life career vito corleone new york city ...</td>\n",
       "      <td>Crime, Drama</td>\n",
       "    </tr>\n",
       "    <tr>\n",
       "      <th>4</th>\n",
       "      <td>12 Angry Men</td>\n",
       "      <td>jury new york city murder trial frustrated sin...</td>\n",
       "      <td>Crime, Drama</td>\n",
       "    </tr>\n",
       "  </tbody>\n",
       "</table>\n",
       "</div>"
      ],
      "text/plain": [
       "                 movie_name  \\\n",
       "0  The Shawshank Redemption   \n",
       "1             The Godfather   \n",
       "2           The Dark Knight   \n",
       "3     The Godfather Part II   \n",
       "4              12 Angry Men   \n",
       "\n",
       "                                             summary                 genre  \n",
       "0  course several year two convict form friendshi...                 Drama  \n",
       "1  aging patriarch organized crime dynasty transf...          Crime, Drama  \n",
       "2  menace known joker wreaks havoc chaos people g...  Action, Crime, Drama  \n",
       "3  early life career vito corleone new york city ...          Crime, Drama  \n",
       "4  jury new york city murder trial frustrated sin...          Crime, Drama  "
      ]
     },
     "execution_count": 519,
     "metadata": {},
     "output_type": "execute_result"
    }
   ],
   "source": [
    "df.head()"
   ]
  },
  {
   "cell_type": "markdown",
   "id": "1ec99c34-fa66-4f81-9924-88a8c74b82cb",
   "metadata": {},
   "source": [
    "#### TF-IDF Vectorization and Cosine Similarity"
   ]
  },
  {
   "cell_type": "code",
   "execution_count": 520,
   "id": "aa721eff-ecb0-4f6a-81a5-1644ab375c6d",
   "metadata": {},
   "outputs": [],
   "source": [
    "from sklearn.feature_extraction.text import TfidfVectorizer\n",
    "from sklearn.feature_extraction.text import CountVectorizer\n",
    "from sklearn.metrics.pairwise import cosine_similarity"
   ]
  },
  {
   "cell_type": "code",
   "execution_count": 521,
   "id": "f37e4bb0-4277-4b2d-a8e3-11349bb8b95f",
   "metadata": {},
   "outputs": [],
   "source": [
    "# creating vector matrix\n",
    "vectorizer = TfidfVectorizer() \n",
    "tfidf_matrix = vectorizer.fit_transform(df.summary)"
   ]
  },
  {
   "cell_type": "code",
   "execution_count": 522,
   "id": "4a5018fb-2a0c-479f-a76a-03fc1c005ae6",
   "metadata": {
    "scrolled": true
   },
   "outputs": [],
   "source": [
    "# calculate cosine similarity between documents\n",
    "cosine_sim = cosine_similarity(tfidf_matrix, tfidf_matrix)"
   ]
  },
  {
   "cell_type": "markdown",
   "id": "e404a2d2-b587-4d23-baf9-913fb09c6ecb",
   "metadata": {},
   "source": [
    "#### Movie Recomendation System"
   ]
  },
  {
   "cell_type": "code",
   "execution_count": 523,
   "id": "2534d571-517b-43f5-a706-6a5c7412c548",
   "metadata": {},
   "outputs": [],
   "source": [
    "# creating indices from the dataset based on movie_name\n",
    "indices = pd.Series(df.index, index=df['movie_name']).drop_duplicates() \n",
    "\n",
    "def get_recommendations(title): # recomendation function\n",
    "    # get the index of the movie that matches the title\n",
    "    idx = indices[title]\n",
    "    \n",
    "    # get the pairwsie similarity scores\n",
    "    sim_scores = list(enumerate(cosine_sim[idx]))\n",
    "    \n",
    "    # sort the movies based on the similarity scores\n",
    "    sim_scores = sorted(sim_scores, key=lambda x: x[1], reverse=True)\n",
    "    \n",
    "    # get the scores for 10 most similar movies\n",
    "    sim_scores = sim_scores[1:11]\n",
    "    \n",
    "    # get the movie indices\n",
    "    movie_indices = [i[0] for i in sim_scores]\n",
    "    \n",
    "    # print the top 10 most similar movies\n",
    "    print('Recommended movies:')\n",
    "    print(df[['movie_name', 'genre']].iloc[movie_indices])"
   ]
  },
  {
   "cell_type": "code",
   "execution_count": 524,
   "id": "d053f049-1de9-4220-9894-d5a62544f66a",
   "metadata": {},
   "outputs": [
    {
     "name": "stdout",
     "output_type": "stream",
     "text": [
      "Recommended movies:\n",
      "                     movie_name                     genre\n",
      "70        The Dark Knight Rises   Action, Drama, Thriller\n",
      "129               Batman Begins      Action, Crime, Drama\n",
      "238       The Battle of Algiers                Drama, War\n",
      "80                        Joker    Crime, Drama, Thriller\n",
      "122           L.A. Confidential     Crime, Drama, Mystery\n",
      "151           Kill Bill: Vol. 1   Action, Crime, Thriller\n",
      "210                        Room           Drama, Thriller\n",
      "162              V for Vendetta      Action, Drama, SciFi\n",
      "28   Terminator 2: Judgment Day  Action, Adventure, SciFi\n",
      "90          Requiem for a Dream                     Drama\n"
     ]
    }
   ],
   "source": [
    "get_recommendations(\"The Dark Knight\")"
   ]
  }
 ],
 "metadata": {
  "kernelspec": {
   "display_name": "Python 3 (ipykernel)",
   "language": "python",
   "name": "python3"
  },
  "language_info": {
   "codemirror_mode": {
    "name": "ipython",
    "version": 3
   },
   "file_extension": ".py",
   "mimetype": "text/x-python",
   "name": "python",
   "nbconvert_exporter": "python",
   "pygments_lexer": "ipython3",
   "version": "3.11.4"
  }
 },
 "nbformat": 4,
 "nbformat_minor": 5
}
